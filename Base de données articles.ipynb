{
 "cells": [
  {
   "cell_type": "markdown",
   "metadata": {},
   "source": [
    "# Base de données articles Zone Atelier"
   ]
  },
  {
   "cell_type": "markdown",
   "metadata": {},
   "source": [
    "## Récupération des articles sur le site"
   ]
  },
  {
   "cell_type": "markdown",
   "metadata": {},
   "source": [
    "https://www.cebc.cnrs.fr/publications-sous-presse/"
   ]
  },
  {
   "cell_type": "code",
   "execution_count": 26,
   "metadata": {},
   "outputs": [],
   "source": [
    "import requests as req\n",
    "import bs4 as bs\n",
    "import pandas as pd"
   ]
  },
  {
   "cell_type": "code",
   "execution_count": 43,
   "metadata": {},
   "outputs": [
    {
     "name": "stdout",
     "output_type": "stream",
     "text": [
      "1980 15\n",
      "1981 21\n",
      "1982 14\n",
      "1983 19\n",
      "1984 15\n",
      "1985 23\n",
      "1986 33\n",
      "1987 36\n",
      "1988 22\n",
      "1989 33\n",
      "1990 38\n",
      "1991 35\n",
      "1992 36\n",
      "1993 24\n",
      "1994 37\n",
      "1995 33\n",
      "1996 54\n",
      "1997 34\n",
      "1998 42\n",
      "1999 50\n",
      "2000 58\n",
      "2001 45\n",
      "2002 61\n",
      "2003 42\n",
      "2004 49\n",
      "2005 76\n",
      "2006 63\n",
      "2007 87\n",
      "2008 86\n",
      "2009 96\n",
      "2010 90\n",
      "2011 97\n",
      "2012 99\n",
      "2013 114\n",
      "2014 136\n",
      "2015 150\n",
      "2016 106\n",
      "2017 134\n",
      "2018 133\n",
      "2019 125\n",
      "2020 160\n"
     ]
    }
   ],
   "source": [
    "corpus = []\n",
    "nb = []\n",
    "for y in range(1980,2021):\n",
    "    url = \"https://www.cebc.cnrs.fr/publications-{}/\".format(y)\n",
    "    page = req.get(url)\n",
    "    page = bs.BeautifulSoup(page.content)\n",
    "    balises = page.find_all(\"p\",{\"align\":\"justify\"}) + page.find_all(\"p\",{\"style\":\"text-align: justify;\"})\n",
    "    articles = [b.text for b in balises if b.text!='\\xa0']\n",
    "    corpus += articles\n",
    "    print(y,len(articles))\n",
    "    nb.append([y,len(articles)])\n",
    "corpus = pd.DataFrame(corpus,columns=[\"data_raw\"])\n",
    "corpus.to_excel(\"publications.xlsx\")"
   ]
  },
  {
   "cell_type": "markdown",
   "metadata": {},
   "source": [
    "## Nettoyage de la base de données"
   ]
  },
  {
   "cell_type": "markdown",
   "metadata": {},
   "source": [
    "### Filtrer par la présence de noms"
   ]
  },
  {
   "cell_type": "code",
   "execution_count": 51,
   "metadata": {},
   "outputs": [
    {
     "data": {
      "text/plain": [
       "False    2308\n",
       "True      313\n",
       "Name: data_raw, dtype: int64"
      ]
     },
     "execution_count": 51,
     "metadata": {},
     "output_type": "execute_result"
    }
   ],
   "source": [
    "noms = [\"bretagnolle\"]\n",
    "corpus[\"data_raw\"].str.lower().str.contains(\"|\".join(noms)).value_counts()"
   ]
  }
 ],
 "metadata": {
  "kernelspec": {
   "display_name": "Python 3",
   "language": "python",
   "name": "python3"
  },
  "language_info": {
   "codemirror_mode": {
    "name": "ipython",
    "version": 3
   },
   "file_extension": ".py",
   "mimetype": "text/x-python",
   "name": "python",
   "nbconvert_exporter": "python",
   "pygments_lexer": "ipython3",
   "version": "3.7.7"
  }
 },
 "nbformat": 4,
 "nbformat_minor": 4
}
