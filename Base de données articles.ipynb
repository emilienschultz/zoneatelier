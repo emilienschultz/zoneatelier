{
 "cells": [
  {
   "cell_type": "markdown",
   "metadata": {},
   "source": [
    "# Base de données articles Zone Atelier"
   ]
  },
  {
   "cell_type": "markdown",
   "metadata": {},
   "source": [
    "## Récupération des articles sur le site"
   ]
  },
  {
   "cell_type": "markdown",
   "metadata": {},
   "source": [
    "https://www.cebc.cnrs.fr/publications-sous-presse/"
   ]
  },
  {
   "cell_type": "code",
   "execution_count": 1,
   "metadata": {},
   "outputs": [],
   "source": [
    "import requests as req\n",
    "import bs4 as bs\n",
    "import pandas as pd"
   ]
  },
  {
   "cell_type": "code",
   "execution_count": 43,
   "metadata": {},
   "outputs": [
    {
     "name": "stdout",
     "output_type": "stream",
     "text": [
      "1980 15\n",
      "1981 21\n",
      "1982 14\n",
      "1983 19\n",
      "1984 15\n",
      "1985 23\n",
      "1986 33\n",
      "1987 36\n",
      "1988 22\n",
      "1989 33\n",
      "1990 38\n",
      "1991 35\n",
      "1992 36\n",
      "1993 24\n",
      "1994 37\n",
      "1995 33\n",
      "1996 54\n",
      "1997 34\n",
      "1998 42\n",
      "1999 50\n",
      "2000 58\n",
      "2001 45\n",
      "2002 61\n",
      "2003 42\n",
      "2004 49\n",
      "2005 76\n",
      "2006 63\n",
      "2007 87\n",
      "2008 86\n",
      "2009 96\n",
      "2010 90\n",
      "2011 97\n",
      "2012 99\n",
      "2013 114\n",
      "2014 136\n",
      "2015 150\n",
      "2016 106\n",
      "2017 134\n",
      "2018 133\n",
      "2019 125\n",
      "2020 160\n"
     ]
    }
   ],
   "source": [
    "corpus = []\n",
    "nb = []\n",
    "for y in range(1980,2021):\n",
    "    url = \"https://www.cebc.cnrs.fr/publications-{}/\".format(y)\n",
    "    page = req.get(url)\n",
    "    page = bs.BeautifulSoup(page.content)\n",
    "    balises = page.find_all(\"p\",{\"align\":\"justify\"}) + page.find_all(\"p\",{\"style\":\"text-align: justify;\"})\n",
    "    articles = [b.text for b in balises if b.text!='\\xa0']\n",
    "    corpus += articles\n",
    "    print(y,len(articles))\n",
    "    nb.append([y,len(articles)])\n",
    "corpus = pd.DataFrame(corpus,columns=[\"data_raw\"])\n",
    "corpus.to_excel(\"publications.xlsx\",index=False)"
   ]
  },
  {
   "cell_type": "markdown",
   "metadata": {},
   "source": [
    "## Nettoyage de la base de données"
   ]
  },
  {
   "cell_type": "code",
   "execution_count": 7,
   "metadata": {},
   "outputs": [
    {
     "data": {
      "text/html": [
       "<div>\n",
       "<style scoped>\n",
       "    .dataframe tbody tr th:only-of-type {\n",
       "        vertical-align: middle;\n",
       "    }\n",
       "\n",
       "    .dataframe tbody tr th {\n",
       "        vertical-align: top;\n",
       "    }\n",
       "\n",
       "    .dataframe thead th {\n",
       "        text-align: right;\n",
       "    }\n",
       "</style>\n",
       "<table border=\"1\" class=\"dataframe\">\n",
       "  <thead>\n",
       "    <tr style=\"text-align: right;\">\n",
       "      <th></th>\n",
       "      <th>data_raw</th>\n",
       "    </tr>\n",
       "  </thead>\n",
       "  <tbody>\n",
       "    <tr>\n",
       "      <th>0</th>\n",
       "      <td>BOISSIN J. Cycle annuel du fonctionnement test...</td>\n",
       "    </tr>\n",
       "    <tr>\n",
       "      <th>1</th>\n",
       "      <td>BOISSIN-AGASSE L., MARTINET L. Contrôle photop...</td>\n",
       "    </tr>\n",
       "    <tr>\n",
       "      <th>2</th>\n",
       "      <td>DEAT A., MAUGET C., MAUGET R., MAUREL D., SEMP...</td>\n",
       "    </tr>\n",
       "    <tr>\n",
       "      <th>3</th>\n",
       "      <td>LAPLAUD P.M., BEAUBATIE L., MAUREL D. A sponta...</td>\n",
       "    </tr>\n",
       "    <tr>\n",
       "      <th>4</th>\n",
       "      <td>MAUGET R. Home range concept and activity patt...</td>\n",
       "    </tr>\n",
       "    <tr>\n",
       "      <th>...</th>\n",
       "      <td>...</td>\n",
       "    </tr>\n",
       "    <tr>\n",
       "      <th>2616</th>\n",
       "      <td>WEIMERSKIRCH H., COLLET J., CORBEAU A., PAJOT ...</td>\n",
       "    </tr>\n",
       "    <tr>\n",
       "      <th>2617</th>\n",
       "      <td>WEIMERSKIRCH H., DE GRISSAC S., RAVACHE A., PR...</td>\n",
       "    </tr>\n",
       "    <tr>\n",
       "      <th>2618</th>\n",
       "      <td>WINTERMANTEL D., ODOUX J.-F., DECOURTYE A., HE...</td>\n",
       "    </tr>\n",
       "    <tr>\n",
       "      <th>2619</th>\n",
       "      <td>WYNN J., COLLET J., PRUDOR A., CORBEAU A., PAD...</td>\n",
       "    </tr>\n",
       "    <tr>\n",
       "      <th>2620</th>\n",
       "      <td>XAVIER J. C., CHEREL Y., BOXSHALL G., BRANDT A...</td>\n",
       "    </tr>\n",
       "  </tbody>\n",
       "</table>\n",
       "<p>2621 rows × 1 columns</p>\n",
       "</div>"
      ],
      "text/plain": [
       "                                               data_raw\n",
       "0     BOISSIN J. Cycle annuel du fonctionnement test...\n",
       "1     BOISSIN-AGASSE L., MARTINET L. Contrôle photop...\n",
       "2     DEAT A., MAUGET C., MAUGET R., MAUREL D., SEMP...\n",
       "3     LAPLAUD P.M., BEAUBATIE L., MAUREL D. A sponta...\n",
       "4     MAUGET R. Home range concept and activity patt...\n",
       "...                                                 ...\n",
       "2616  WEIMERSKIRCH H., COLLET J., CORBEAU A., PAJOT ...\n",
       "2617  WEIMERSKIRCH H., DE GRISSAC S., RAVACHE A., PR...\n",
       "2618  WINTERMANTEL D., ODOUX J.-F., DECOURTYE A., HE...\n",
       "2619  WYNN J., COLLET J., PRUDOR A., CORBEAU A., PAD...\n",
       "2620  XAVIER J. C., CHEREL Y., BOXSHALL G., BRANDT A...\n",
       "\n",
       "[2621 rows x 1 columns]"
      ]
     },
     "execution_count": 7,
     "metadata": {},
     "output_type": "execute_result"
    }
   ],
   "source": [
    "corpus = pd.read_excel(\"publications.xlsx\",index=False)\n",
    "corpus"
   ]
  },
  {
   "cell_type": "markdown",
   "metadata": {},
   "source": [
    "### Filtrer par la présence de noms"
   ]
  },
  {
   "cell_type": "code",
   "execution_count": 51,
   "metadata": {},
   "outputs": [
    {
     "data": {
      "text/plain": [
       "False    2308\n",
       "True      313\n",
       "Name: data_raw, dtype: int64"
      ]
     },
     "execution_count": 51,
     "metadata": {},
     "output_type": "execute_result"
    }
   ],
   "source": [
    "noms = [\"bretagnolle\"]\n",
    "corpus[\"data_raw\"].str.lower().str.contains(\"|\".join(noms)).value_counts()"
   ]
  }
 ],
 "metadata": {
  "kernelspec": {
   "display_name": "Python 3",
   "language": "python",
   "name": "python3"
  },
  "language_info": {
   "codemirror_mode": {
    "name": "ipython",
    "version": 3
   },
   "file_extension": ".py",
   "mimetype": "text/x-python",
   "name": "python",
   "nbconvert_exporter": "python",
   "pygments_lexer": "ipython3",
   "version": "3.7.7"
  }
 },
 "nbformat": 4,
 "nbformat_minor": 4
}
